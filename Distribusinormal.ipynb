{
 "cells": [
  {
   "cell_type": "code",
   "execution_count": 1,
   "id": "d2a95ad1",
   "metadata": {},
   "outputs": [
    {
     "name": "stdout",
     "output_type": "stream",
     "text": [
      "probabilitas tinggi kurang dari 189cm 0.8413447460685429\n"
     ]
    }
   ],
   "source": [
    "from scipy.stats import norm\n",
    "\n",
    "#Menentukan rata rata dan standar deviasi\n",
    "mean = 184 #rata rata\n",
    "std_dev = 5 #standar deviasi\n",
    "\n",
    "#Menghitung probabilitas tinggi kurang dari 189cm\n",
    "height = 189\n",
    "prob_less_than_189 = norm.cdf(height, mean, std_dev)\n",
    "\n",
    "#Menampilkan hasil\n",
    "print(\"probabilitas tinggi kurang dari 189cm\", prob_less_than_189)"
   ]
  },
  {
   "cell_type": "code",
   "execution_count": 3,
   "id": "6596ec51",
   "metadata": {},
   "outputs": [
    {
     "name": "stdout",
     "output_type": "stream",
     "text": [
      "Probabilitas tinggi antara 174cm dan 199cm 0.9758999700201907\n"
     ]
    }
   ],
   "source": [
    "from scipy.stats import norm\n",
    "\n",
    "#Menentukan rata rata dan standar deviasi\n",
    "mean = 184 #rata rata\n",
    "std_dev = 5 #standar deviasi\n",
    "\n",
    "#Menghitung probabilitas tinggi kurang dari 174cm\n",
    "prob_less_than_174 = norm.cdf(174, mean, std_dev)\n",
    "\n",
    "#Menghitung probabilitas tinggi kurang dari 199cm\n",
    "prob_less_than_199 = norm.cdf(199,mean, std_dev)\n",
    "\n",
    "#Kemungkinan antara 174cm dan 199cm adalah selisih antara probabilitas kurang dari 199 dan kurang dari 174\n",
    "prob_between_174_and_199 = prob_less_than_199 - prob_less_than_174\n",
    "\n",
    "#Menampilkan hasil\n",
    "print(\"Probabilitas tinggi antara 174cm dan 199cm\", prob_between_174_and_199)"
   ]
  },
  {
   "cell_type": "code",
   "execution_count": 4,
   "id": "d90bcb2c",
   "metadata": {},
   "outputs": [
    {
     "name": "stdout",
     "output_type": "stream",
     "text": [
      "Peluang apel yang berkualitas 'not good': 0.0595\n"
     ]
    }
   ],
   "source": [
    "from scipy.stats import norm\n",
    "\n",
    "#Menentukan rata rata dan standar deviasi\n",
    "mean = 173 #rata rata\n",
    "std_dev = 34 #standar deviasi\n",
    "\n",
    "#Menghitung probabilitas apel berkualitas \"not good\" (berat kurang dari 120 gram)\n",
    "prob_not_good = norm.cdf(120, mean, std_dev)\n",
    "\n",
    "#Menampilkan hasil\n",
    "print(\"Peluang apel yang berkualitas 'not good': {:.4f}\".format(prob_not_good))"
   ]
  },
  {
   "cell_type": "code",
   "execution_count": 5,
   "id": "507fcba7",
   "metadata": {},
   "outputs": [
    {
     "name": "stdout",
     "output_type": "stream",
     "text": [
      "Rata-rata jumlha pelanggan dalam sistem (L): 4.00\n",
      "Rata-rata waktu setiap pelanggan berada dalam sistem(W): 40.00\n"
     ]
    }
   ],
   "source": [
    "#Definisi laju kedatangan dan laju pelayanan\n",
    "arrival_rate = 1/10 #pelanggan per menit\n",
    "service_rate = 1/8 #pelanggan per menit\n",
    "\n",
    "#Menghitung rata-rata jumlah pelanggan dalam sistem(L)\n",
    "L = arrival_rate / (service_rate - arrival_rate)\n",
    "\n",
    "#Menghitung rata-rata waktu setiap pelanggan berada dalam sistem (W)\n",
    "W = L / arrival_rate\n",
    "\n",
    "#Menampilkan hasil\n",
    "print(\"Rata-rata jumlha pelanggan dalam sistem (L): {:.2f}\".format(L))\n",
    "print(\"Rata-rata waktu setiap pelanggan berada dalam sistem(W): {:.2f}\".format(W))"
   ]
  },
  {
   "cell_type": "code",
   "execution_count": 6,
   "id": "705b5bae",
   "metadata": {},
   "outputs": [
    {
     "name": "stdout",
     "output_type": "stream",
     "text": [
      "Peluang seseorang dilayani antara 3 sampai 5 menit: 0.1618974\n"
     ]
    }
   ],
   "source": [
    "from scipy.stats import expon\n",
    "\n",
    "#Rerata waktu pelayanan (mu)\n",
    "mean_service_time = 7 # Menit\n",
    "\n",
    "#Menghitung peluang seseorang dilayani antara 3 sampai 5 menit\n",
    "prob_between_3_and_5 = expon.cdf(5, scale=mean_service_time) - expon.cdf(3, scale=mean_service_time)\n",
    "\n",
    "#Menampilkan hasil\n",
    "print(\"Peluang seseorang dilayani antara 3 sampai 5 menit: {:.7f}\".format(prob_between_3_and_5))"
   ]
  },
  {
   "cell_type": "code",
   "execution_count": 7,
   "id": "33305db4",
   "metadata": {},
   "outputs": [
    {
     "name": "stdout",
     "output_type": "stream",
     "text": [
      "Peluang lebih dari 6 pelanggan akan tiba dalam periode 2 menit berikutnya 0.8698586\n"
     ]
    }
   ],
   "source": [
    "from scipy.stats import poisson\n",
    "\n",
    "#Rata-rata pelanggan permenit \n",
    "mean_arrival_rate = 5\n",
    "\n",
    "#Menghitung peluang lebih dari 6 pelanggan tiba dalam periode 2 menit\n",
    "prob_more_than_6_arrivals = 1 - poisson.cdf(6, mu=mean_arrival_rate * 2)\n",
    "\n",
    "#Menampilkan hasil\n",
    "print(\"Peluang lebih dari 6 pelanggan akan tiba dalam periode 2 menit berikutnya {:.7f}\".format(prob_more_than_6_arrivals))"
   ]
  },
  {
   "cell_type": "code",
   "execution_count": 8,
   "id": "7d36cd9d",
   "metadata": {},
   "outputs": [
    {
     "name": "stdout",
     "output_type": "stream",
     "text": [
      "Tinggi sedemikian rupa 16,85% pemain basket lebih tinggi dari 188.80 cm\n"
     ]
    }
   ],
   "source": [
    "from scipy.stats import norm\n",
    "\n",
    "#Menentukan rata-rata dan standar deviasi\n",
    "mean = 184 #rata rata\n",
    "std_dev = 5 #Standar deviasi\n",
    "\n",
    "#Probabilitas tinggi lebih tinggi dari tinggi tertentu\n",
    "prob_more_than = 1 - 0.1685\n",
    "\n",
    "#Menggunkana fungsi quantile untuk menemukan tinggi yang sesuai \n",
    "height = norm.ppf(prob_more_than, mean, std_dev)\n",
    "\n",
    "#Menampilkan hasil\n",
    "print(\"Tinggi sedemikian rupa 16,85% pemain basket lebih tinggi dari {:.2f} cm\".format(height))"
   ]
  },
  {
   "cell_type": "code",
   "execution_count": 9,
   "id": "4941eb88",
   "metadata": {},
   "outputs": [
    {
     "name": "stdout",
     "output_type": "stream",
     "text": [
      "Probabilitas kurang dari atau sama dengan 2 apel berkualitas 'not good': 0.9903771\n"
     ]
    }
   ],
   "source": [
    "from scipy.stats import binom\n",
    "\n",
    "#Menentukan parameter distribusi binomial\n",
    "n = 8 #total jumlah apel\n",
    "p = 0.06 #Probabilitas apel berkualitas \"not good\"\n",
    "\n",
    "#Menghitung probabilitas jumlah apel berkualitas \"not good\" kurang dari atau sama dengan 2\n",
    "prob_not_good_or_less = binom.cdf(2, n, p)\n",
    "\n",
    "#Menampilkan hasil\n",
    "print(\"Probabilitas kurang dari atau sama dengan 2 apel berkualitas 'not good': {:.7f}\".format(prob_not_good_or_less))"
   ]
  },
  {
   "cell_type": "code",
   "execution_count": 20,
   "id": "39777e1d",
   "metadata": {},
   "outputs": [
    {
     "name": "stdout",
     "output_type": "stream",
     "text": [
      "Rata-rata jumlah pelanggan dalam sistem (L) setelah perubahan: 1.00\n",
      "Rata-rata waktu setiap pelanggan berada dalam sistem (W) setelah perubahan: 16.00\n"
     ]
    }
   ],
   "source": [
    "#Definisi laju kedatangan dan laju pelayanan\n",
    "arrival_rate_new = 1/16 # pelanggan per menit\n",
    "service_rate = 1/8 \n",
    "\n",
    "#Menghitung ulang rata-rata jumlah pelanggan dalam sistem (L)\n",
    "L_new = arrival_rate_new / (service_rate - arrival_rate_new)\n",
    "\n",
    "#Menghitung ulang rata-rata waktu setiap pelanggan berada dalam sistem (W)\n",
    "W_new = L_new / arrival_rate_new\n",
    "\n",
    "#Menampilkan hasil\n",
    "print(\"Rata-rata jumlah pelanggan dalam sistem (L) setelah perubahan: {:.2f}\".format(L_new))\n",
    "print(\"Rata-rata waktu setiap pelanggan berada dalam sistem (W) setelah perubahan: {:.2f}\".format(W_new))"
   ]
  },
  {
   "cell_type": "code",
   "execution_count": 14,
   "id": "093565f6",
   "metadata": {},
   "outputs": [
    {
     "name": "stdout",
     "output_type": "stream",
     "text": [
      "Peluang seseorang mendapatkan pelayanan lebih dari 8 menit: 0.3189066\n"
     ]
    }
   ],
   "source": [
    "from scipy.stats import expon\n",
    "\n",
    "#Rerata waktu pelayanan (mu)\n",
    "mean_service_time = 7 #Menit\n",
    "\n",
    "#Menghitung pelaung seseorang mendapatkan pelayanan lebih dari 8 menit\n",
    "prob_more_than_8_minutes = 1 - expon.cdf(8, scale=mean_service_time)\n",
    "\n",
    "#Menampilkan hasil\n",
    "print(\"Peluang seseorang mendapatkan pelayanan lebih dari 8 menit: {:.7f}\".format(prob_more_than_8_minutes))"
   ]
  },
  {
   "cell_type": "code",
   "execution_count": 15,
   "id": "36ca9572",
   "metadata": {},
   "outputs": [
    {
     "name": "stdout",
     "output_type": "stream",
     "text": [
      "Peluang bahwa dalam 1 menit berikutnya terdapat tepat 4 pelanggan yang akan datang: 0.1754674\n"
     ]
    }
   ],
   "source": [
    "from scipy.stats import poisson\n",
    "\n",
    "#Rata-rata pelanggan per menit\n",
    "mean_arrival_rate = 5\n",
    "\n",
    "#Menghitung peluang tepat 4 pelanggan akan datang dalam 1 menit\n",
    "prob_4_arrivals = poisson.pmf(4, mu=mean_arrival_rate)\n",
    "\n",
    "#Menampilkan hasil\n",
    "print(\"Peluang bahwa dalam 1 menit berikutnya terdapat tepat 4 pelanggan yang akan datang: {:.7f}\".format(prob_4_arrivals))"
   ]
  },
  {
   "cell_type": "code",
   "execution_count": 17,
   "id": "9659a0d7",
   "metadata": {},
   "outputs": [
    {
     "name": "stdout",
     "output_type": "stream",
     "text": [
      "Rata-rata jumlah kedatangan selama periode 1 jam: 300.00\n"
     ]
    }
   ],
   "source": [
    "#Rata-rata pelanggan permenit\n",
    "mean_arrival_rate = 5\n",
    "\n",
    "#Menghitung rata-rata jumlah kedatangan selama periode 1 jam\n",
    "mean_arrival_per_hour = mean_arrival_rate * 60 #60 Menit dalam satu jam\n",
    "\n",
    "#Menampilkan hasil\n",
    "print(\"Rata-rata jumlah kedatangan selama periode 1 jam: {:.2f}\".format(mean_arrival_per_hour))\n"
   ]
  },
  {
   "cell_type": "code",
   "execution_count": null,
   "id": "b74041f1",
   "metadata": {},
   "outputs": [],
   "source": []
  }
 ],
 "metadata": {
  "kernelspec": {
   "display_name": "Python 3 (ipykernel)",
   "language": "python",
   "name": "python3"
  },
  "language_info": {
   "codemirror_mode": {
    "name": "ipython",
    "version": 3
   },
   "file_extension": ".py",
   "mimetype": "text/x-python",
   "name": "python",
   "nbconvert_exporter": "python",
   "pygments_lexer": "ipython3",
   "version": "3.11.4"
  }
 },
 "nbformat": 4,
 "nbformat_minor": 5
}
